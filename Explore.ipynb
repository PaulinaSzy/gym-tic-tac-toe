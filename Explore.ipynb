{
 "cells": [
  {
   "cell_type": "markdown",
   "metadata": {},
   "source": [
    "# Q learning with Tic Tac Toe\n",
    "\n",
    "[Assignment description](RL.pdf)"
   ]
  },
  {
   "cell_type": "markdown",
   "metadata": {},
   "source": [
    "## Imports"
   ]
  },
  {
   "cell_type": "code",
   "execution_count": 5,
   "metadata": {},
   "outputs": [],
   "source": [
    "import gym\n",
    "import gym_tic_tac_toe"
   ]
  },
  {
   "cell_type": "markdown",
   "metadata": {},
   "source": [
    "## Testing the game"
   ]
  },
  {
   "cell_type": "code",
   "execution_count": 6,
   "metadata": {},
   "outputs": [],
   "source": [
    "def play_game(moves):\n",
    "    env = gym.make('tic_tac_toe-v1')\n",
    "    env.reset()\n",
    "    \n",
    "    for move in moves:\n",
    "        # get all possible moves\n",
    "        print(env.move_generator())\n",
    "\n",
    "        # returns: resulting_state, reward, finished, _ = env.step(action)\n",
    "        print(env.step(move))\n",
    "        \n",
    "        # draws a board\n",
    "        env.render()\n",
    "        \n",
    "    return env"
   ]
  },
  {
   "cell_type": "code",
   "execution_count": 7,
   "metadata": {},
   "outputs": [
    {
     "name": "stdout",
     "output_type": "stream",
     "text": [
      "[[1, 0], [1, 1], [1, 2], [1, 3], [1, 4], [1, 5], [1, 6], [1, 7], [1, 8]]\n",
      "({'board': [1, 0, 0, 0, 0, 0, 0, 0, 0], 'on_move': -1}, 0, False, {})\n",
      "on move:  O\n",
      "X     \n",
      "      \n",
      "      \n",
      "[[-1, 1], [-1, 2], [-1, 3], [-1, 4], [-1, 5], [-1, 6], [-1, 7], [-1, 8]]\n",
      "({'board': [1, -1, 0, 0, 0, 0, 0, 0, 0], 'on_move': 1}, 0, False, {})\n",
      "on move:  X\n",
      "X O   \n",
      "      \n",
      "      \n",
      "[[1, 2], [1, 3], [1, 4], [1, 5], [1, 6], [1, 7], [1, 8]]\n",
      "({'board': [1, -1, 1, 0, 0, 0, 0, 0, 0], 'on_move': -1}, 0, False, {})\n",
      "on move:  O\n",
      "X O X \n",
      "      \n",
      "      \n",
      "[[-1, 3], [-1, 4], [-1, 5], [-1, 6], [-1, 7], [-1, 8]]\n",
      "({'board': [1, -1, 1, -1, 0, 0, 0, 0, 0], 'on_move': 1}, 0, False, {})\n",
      "on move:  X\n",
      "X O X \n",
      "O     \n",
      "      \n",
      "[[1, 4], [1, 5], [1, 6], [1, 7], [1, 8]]\n",
      "({'board': [1, -1, 1, -1, 1, 0, 0, 0, 0], 'on_move': -1}, 0, False, {})\n",
      "on move:  O\n",
      "X O X \n",
      "O X   \n",
      "      \n",
      "[[-1, 5], [-1, 6], [-1, 7], [-1, 8]]\n",
      "({'board': [1, -1, 1, -1, 1, -1, 0, 0, 0], 'on_move': 1}, 0, False, {})\n",
      "on move:  X\n",
      "X O X \n",
      "O X O \n",
      "      \n",
      "[[1, 6], [1, 7], [1, 8]]\n",
      "({'board': [1, -1, 1, -1, 1, -1, 0, 1, 0], 'on_move': -1}, 0, False, {})\n",
      "on move:  O\n",
      "X O X \n",
      "O X O \n",
      "  X   \n",
      "[[-1, 6], [-1, 8]]\n",
      "({'board': [1, -1, 1, -1, 1, -1, -1, 1, 0], 'on_move': 1}, 0, False, {})\n",
      "on move:  X\n",
      "X O X \n",
      "O X O \n",
      "O X   \n",
      "[[1, 8]]\n",
      "({'board': [1, -1, 1, -1, 1, -1, -1, 1, 1], 'on_move': -1}, 1, True, {})\n",
      "on move:  O\n",
      "X O X \n",
      "O X O \n",
      "O X X \n"
     ]
    }
   ],
   "source": [
    "# every move is a list of two elements: \n",
    "#   * player number (1 for crosses, -1 for naughts)\n",
    "#   * tile number – one of:\n",
    "#        0 1 2\n",
    "#        3 4 5\n",
    "#        7 8 9\n",
    "\n",
    "moves = [[1,0], [-1,1], [1,2], [-1, 3], [1, 4], [-1, 5], [1, 7], [-1, 6], [1, 8]]\n",
    "_ = play_game(moves)"
   ]
  },
  {
   "cell_type": "markdown",
   "metadata": {},
   "source": [
    "## Q learning implementation\n",
    "\n",
    "Resources:\n",
    " * https://www.geeksforgeeks.org/q-learning-in-python/\n",
    " * https://en.wikipedia.org/wiki/Q-learning"
   ]
  },
  {
   "cell_type": "code",
   "execution_count": null,
   "metadata": {},
   "outputs": [],
   "source": []
  }
 ],
 "metadata": {
  "kernelspec": {
   "display_name": "Python 3",
   "language": "python",
   "name": "python3"
  },
  "language_info": {
   "codemirror_mode": {
    "name": "ipython",
    "version": 3
   },
   "file_extension": ".py",
   "mimetype": "text/x-python",
   "name": "python",
   "nbconvert_exporter": "python",
   "pygments_lexer": "ipython3",
   "version": "3.7.0"
  }
 },
 "nbformat": 4,
 "nbformat_minor": 2
}
