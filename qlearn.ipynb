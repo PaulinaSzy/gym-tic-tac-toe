{
 "cells": [
  {
   "cell_type": "code",
   "execution_count": 3,
   "metadata": {},
   "outputs": [],
   "source": [
    "import gym\n",
    "import itertools\n",
    "import gym_tic_tac_toe\n",
    "import plotting\n",
    "from plotting import EpisodeStats\n",
    "from collections import defaultdict \n",
    "import numpy as np \n",
    "# from windy_gridworld import WindyGridworldEnv "
   ]
  },
  {
   "cell_type": "code",
   "execution_count": 55,
   "metadata": {},
   "outputs": [],
   "source": [
    "env = gym.make('tic_tac_toe-v1')"
   ]
  },
  {
   "cell_type": "code",
   "execution_count": 56,
   "metadata": {},
   "outputs": [],
   "source": [
    "def hash_state(state):\n",
    "    board = state['board']\n",
    "    move = state['on_move']\n",
    "    return ''.join(str(b) for b in board)+str(move)\n",
    "    \n",
    "def hash_action(action):\n",
    "    return action[1]"
   ]
  },
  {
   "cell_type": "code",
   "execution_count": 79,
   "metadata": {},
   "outputs": [],
   "source": [
    "def create_policy(Q, epsilon):\n",
    "\n",
    "    def get_action_probs(state, num_actions): \n",
    "        state_hash = hash_state(state)\n",
    "        action_probs = np.ones(num_actions, \n",
    "                dtype = float) * epsilon / num_actions \n",
    "                  \n",
    "        best_action = np.argmax(Q[state_hash]) \n",
    "        action_probs[best_action] += (1.0 - epsilon) \n",
    "        return action_probs \n",
    "   \n",
    "    return get_action_probs "
   ]
  },
  {
   "cell_type": "code",
   "execution_count": 80,
   "metadata": {},
   "outputs": [],
   "source": [
    "def q_learn(env, num_episodes, discount_factor = 1.0, alpha = 0.6, epsilon = 0.1): \n",
    "   \n",
    "    Q = {} \n",
    "    \n",
    "    stats = plotting.EpisodeStats( \n",
    "        episode_lengths = np.zeros(num_episodes), \n",
    "        episode_rewards = np.zeros(num_episodes))\n",
    "    \n",
    "    policy = create_policy(Q, epsilon) \n",
    "       \n",
    "    for ith_episode in range(num_episodes): \n",
    "           \n",
    "        state = env.reset() \n",
    "        for t in itertools.count(): \n",
    "               \n",
    "            moves = env.move_generator()\n",
    "            action_probabilities = policy(state, len(moves)) \n",
    "            action_idx = np.random.choice(np.arange( \n",
    "                      len(action_probabilities)), \n",
    "                       p = action_probabilities)\n",
    "            \n",
    "            action = moves[action_idx]\n",
    "               \n",
    "            next_state, reward, done, _ = env.step(action) \n",
    "   \n",
    "            stats.episode_rewards[ith_episode] += reward \n",
    "            stats.episode_lengths[ith_episode] = t \n",
    "            \n",
    "            nsh = hash_state(next_state)\n",
    "            bnah = np.argmax(Q[nsh])\n",
    "            sh = hash_state(state)\n",
    "            ah = hash_action(action)\n",
    "            td_target = reward + discount_factor * Q[nsh][bnah] \n",
    "            td_delta = td_target - Q[sh][ah] \n",
    "            Q[sh][ah] += alpha * td_delta \n",
    "   \n",
    "            if done: \n",
    "                break\n",
    "                   \n",
    "            state = next_state \n",
    "       \n",
    "    return Q, stats "
   ]
  },
  {
   "cell_type": "code",
   "execution_count": 81,
   "metadata": {},
   "outputs": [
    {
     "ename": "KeyError",
     "evalue": "'0000000001'",
     "output_type": "error",
     "traceback": [
      "\u001b[0;31m---------------------------------------------------------------------------\u001b[0m",
      "\u001b[0;31mKeyError\u001b[0m                                  Traceback (most recent call last)",
      "\u001b[0;32m<ipython-input-81-c3a3890311ba>\u001b[0m in \u001b[0;36m<module>\u001b[0;34m()\u001b[0m\n\u001b[0;32m----> 1\u001b[0;31m \u001b[0mprint\u001b[0m\u001b[0;34m(\u001b[0m\u001b[0mq_learn\u001b[0m\u001b[0;34m(\u001b[0m\u001b[0menv\u001b[0m\u001b[0;34m,\u001b[0m \u001b[0;36m1000\u001b[0m\u001b[0;34m)\u001b[0m\u001b[0;34m)\u001b[0m\u001b[0;34m\u001b[0m\u001b[0m\n\u001b[0m",
      "\u001b[0;32m<ipython-input-80-aae59e1f3e43>\u001b[0m in \u001b[0;36mq_learn\u001b[0;34m(env, num_episodes, discount_factor, alpha, epsilon)\u001b[0m\n\u001b[1;32m     15\u001b[0m \u001b[0;34m\u001b[0m\u001b[0m\n\u001b[1;32m     16\u001b[0m             \u001b[0mmoves\u001b[0m \u001b[0;34m=\u001b[0m \u001b[0menv\u001b[0m\u001b[0;34m.\u001b[0m\u001b[0mmove_generator\u001b[0m\u001b[0;34m(\u001b[0m\u001b[0;34m)\u001b[0m\u001b[0;34m\u001b[0m\u001b[0m\n\u001b[0;32m---> 17\u001b[0;31m             \u001b[0maction_probabilities\u001b[0m \u001b[0;34m=\u001b[0m \u001b[0mpolicy\u001b[0m\u001b[0;34m(\u001b[0m\u001b[0mstate\u001b[0m\u001b[0;34m,\u001b[0m \u001b[0mlen\u001b[0m\u001b[0;34m(\u001b[0m\u001b[0mmoves\u001b[0m\u001b[0;34m)\u001b[0m\u001b[0;34m)\u001b[0m\u001b[0;34m\u001b[0m\u001b[0m\n\u001b[0m\u001b[1;32m     18\u001b[0m             action_idx = np.random.choice(np.arange( \n\u001b[1;32m     19\u001b[0m                       len(action_probabilities)), \n",
      "\u001b[0;32m<ipython-input-79-635e5267a529>\u001b[0m in \u001b[0;36mget_action_probs\u001b[0;34m(state, num_actions)\u001b[0m\n\u001b[1;32m      6\u001b[0m                 dtype = float) * epsilon / num_actions \n\u001b[1;32m      7\u001b[0m \u001b[0;34m\u001b[0m\u001b[0m\n\u001b[0;32m----> 8\u001b[0;31m         \u001b[0mbest_action\u001b[0m \u001b[0;34m=\u001b[0m \u001b[0mnp\u001b[0m\u001b[0;34m.\u001b[0m\u001b[0margmax\u001b[0m\u001b[0;34m(\u001b[0m\u001b[0mQ\u001b[0m\u001b[0;34m[\u001b[0m\u001b[0mstate_hash\u001b[0m\u001b[0;34m]\u001b[0m\u001b[0;34m)\u001b[0m\u001b[0;34m\u001b[0m\u001b[0m\n\u001b[0m\u001b[1;32m      9\u001b[0m         \u001b[0maction_probs\u001b[0m\u001b[0;34m[\u001b[0m\u001b[0mbest_action\u001b[0m\u001b[0;34m]\u001b[0m \u001b[0;34m+=\u001b[0m \u001b[0;34m(\u001b[0m\u001b[0;36m1.0\u001b[0m \u001b[0;34m-\u001b[0m \u001b[0mepsilon\u001b[0m\u001b[0;34m)\u001b[0m\u001b[0;34m\u001b[0m\u001b[0m\n\u001b[1;32m     10\u001b[0m         \u001b[0;32mreturn\u001b[0m \u001b[0maction_probs\u001b[0m\u001b[0;34m\u001b[0m\u001b[0m\n",
      "\u001b[0;31mKeyError\u001b[0m: '0000000001'"
     ]
    }
   ],
   "source": [
    "print(q_learn(env, 1000))"
   ]
  },
  {
   "cell_type": "code",
   "execution_count": null,
   "metadata": {},
   "outputs": [],
   "source": []
  },
  {
   "cell_type": "code",
   "execution_count": null,
   "metadata": {},
   "outputs": [],
   "source": []
  }
 ],
 "metadata": {
  "kernelspec": {
   "display_name": "Python 3",
   "language": "python",
   "name": "python3"
  },
  "language_info": {
   "codemirror_mode": {
    "name": "ipython",
    "version": 3
   },
   "file_extension": ".py",
   "mimetype": "text/x-python",
   "name": "python",
   "nbconvert_exporter": "python",
   "pygments_lexer": "ipython3",
   "version": "3.5.2"
  }
 },
 "nbformat": 4,
 "nbformat_minor": 2
}
